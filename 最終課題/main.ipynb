{
 "cells": [
  {
   "cell_type": "code",
   "execution_count": 35,
   "metadata": {},
   "outputs": [],
   "source": [
    "import requests\n",
    "from bs4 import BeautifulSoup\n",
    "import sqlite3\n",
    "import re\n",
    "import chardet"
   ]
  },
  {
   "cell_type": "code",
   "execution_count": 36,
   "metadata": {},
   "outputs": [
    {
     "data": {
      "text/plain": [
       "<sqlite3.Cursor at 0x113587140>"
      ]
     },
     "execution_count": 36,
     "metadata": {},
     "output_type": "execute_result"
    }
   ],
   "source": [
    "# データベース接続\n",
    "conn = sqlite3.connect('jalan.db')\n",
    "cur = conn.cursor()\n",
    "\n",
    "# テーブル作成\n",
    "cur.execute('''\n",
    "  CREATE TABLE IF NOT EXISTS inns (\n",
    "    id INTEGER PRIMARY KEY AUTOINCREMENT,\n",
    "    name TEXT NOT NULL,\n",
    "    rating REAL NOT NULL,\n",
    "    comment_count INTEGER NOT NULL\n",
    "  )\n",
    "''')"
   ]
  },
  {
   "cell_type": "code",
   "execution_count": 37,
   "metadata": {},
   "outputs": [],
   "source": [
    "# スクレイピング対象URL\n",
    "url = \"https://www.jalan.net/110000/LRG_110500/?stayYear=2025&stayMonth=1&stayDay=22&stayCount=1&roomCount=1&adultNum=2&ypFlg=1&kenCd=110000&screenId=UWW1380&roomCrack=200000&lrgCd=110500&distCd=01&rootCd=04\"\n",
    "\n",
    "# データ取得\n",
    "response = requests.get(url)\n",
    "# エンコーディングを自動検出\n",
    "detected_encoding = chardet.detect(response.content)['encoding']\n",
    "\n",
    "# BeautifulSoupで解析、エンコーディングを指定\n",
    "soup = BeautifulSoup(response.content, \"html.parser\", from_encoding=detected_encoding)\n",
    "\n",
    "# 旅館情報を含む要素を取得\n",
    "inns = soup.find_all(\"div\", class_=\"p-yadoCassette__summary\")\n",
    "\n",
    "for inn in inns:\n",
    "    try:\n",
    "        name = inn.find(\"h2\", class_=\"p-searchResultItem__facilityName\").text.strip()\n",
    "        rating_element = inn.find(\"span\", class_=\"p-searchResultItem__summaryaverage-num\")\n",
    "        rating = float(rating_element.text) if rating_element else None  # 評価がない場合はNoneを代入\n",
    "\n",
    "        # 口コミ件数の取得\n",
    "        comment_count_element = inn.find(\"span\", class_=\"p-searchResultItem__summarykuchikomi__totalNumber\")\n",
    "        if comment_count_element:\n",
    "            comment_count_text = comment_count_element.text\n",
    "            comment_count_match = re.search(r'\\d+', comment_count_text)\n",
    "            comment_count = int(comment_count_match.group(0)) if comment_count_match else None  # 口コミ件数が取得できない場合はNoneを代入\n",
    "        else:\n",
    "            comment_count = None\n",
    "\n",
    "    except AttributeError:\n",
    "        print(\"Error: Could not find element. Skipping...\")\n",
    "        # エラーが発生した旅館の情報をprintするなどして、原因を調査する\n",
    "        print(inn)"
   ]
  },
  {
   "cell_type": "code",
   "execution_count": 38,
   "metadata": {},
   "outputs": [],
   "source": [
    "# コミット\n",
    "conn.commit()\n",
    "\n",
    "# データベース接続を閉じる\n",
    "conn.close()"
   ]
  }
 ],
 "metadata": {
  "kernelspec": {
   "display_name": "Python 3",
   "language": "python",
   "name": "python3"
  },
  "language_info": {
   "codemirror_mode": {
    "name": "ipython",
    "version": 3
   },
   "file_extension": ".py",
   "mimetype": "text/x-python",
   "name": "python",
   "nbconvert_exporter": "python",
   "pygments_lexer": "ipython3",
   "version": "3.10.1"
  }
 },
 "nbformat": 4,
 "nbformat_minor": 2
}
