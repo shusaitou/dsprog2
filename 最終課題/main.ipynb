{
 "cells": [
  {
   "cell_type": "code",
   "execution_count": 20,
   "metadata": {},
   "outputs": [
    {
     "ename": "ModuleNotFoundError",
     "evalue": "No module named 'chardet'",
     "output_type": "error",
     "traceback": [
      "\u001b[0;31m---------------------------------------------------------------------------\u001b[0m",
      "\u001b[0;31mModuleNotFoundError\u001b[0m                       Traceback (most recent call last)",
      "Cell \u001b[0;32mIn[20], line 5\u001b[0m\n\u001b[1;32m      3\u001b[0m \u001b[38;5;28;01mimport\u001b[39;00m \u001b[38;5;21;01msqlite3\u001b[39;00m\n\u001b[1;32m      4\u001b[0m \u001b[38;5;28;01mimport\u001b[39;00m \u001b[38;5;21;01mre\u001b[39;00m\n\u001b[0;32m----> 5\u001b[0m \u001b[38;5;28;01mimport\u001b[39;00m \u001b[38;5;21;01mchardet\u001b[39;00m\n",
      "\u001b[0;31mModuleNotFoundError\u001b[0m: No module named 'chardet'"
     ]
    }
   ],
   "source": [
    "import requests\n",
    "from bs4 import BeautifulSoup\n",
    "import sqlite3\n",
    "import re\n",
    "import chardet"
   ]
  },
  {
   "cell_type": "code",
   "execution_count": 18,
   "metadata": {},
   "outputs": [
    {
     "data": {
      "text/plain": [
       "<sqlite3.Cursor at 0x1118a2a40>"
      ]
     },
     "execution_count": 18,
     "metadata": {},
     "output_type": "execute_result"
    }
   ],
   "source": [
    "# データベース接続\n",
    "conn = sqlite3.connect('jalan.db')\n",
    "cur = conn.cursor()\n",
    "\n",
    "# テーブル作成\n",
    "cur.execute('''\n",
    "  CREATE TABLE IF NOT EXISTS inns (\n",
    "    id INTEGER PRIMARY KEY AUTOINCREMENT,\n",
    "    name TEXT NOT NULL,\n",
    "    rating REAL NOT NULL,\n",
    "    comment_count INTEGER NOT NULL\n",
    "  )\n",
    "''')"
   ]
  },
  {
   "cell_type": "code",
   "execution_count": 19,
   "metadata": {},
   "outputs": [
    {
     "ename": "NameError",
     "evalue": "name 'chardet' is not defined",
     "output_type": "error",
     "traceback": [
      "\u001b[0;31m---------------------------------------------------------------------------\u001b[0m",
      "\u001b[0;31mNameError\u001b[0m                                 Traceback (most recent call last)",
      "Cell \u001b[0;32mIn[19], line 7\u001b[0m\n\u001b[1;32m      5\u001b[0m response \u001b[38;5;241m=\u001b[39m requests\u001b[38;5;241m.\u001b[39mget(url)\n\u001b[1;32m      6\u001b[0m \u001b[38;5;66;03m# エンコーディングを自動検出\u001b[39;00m\n\u001b[0;32m----> 7\u001b[0m detected_encoding \u001b[38;5;241m=\u001b[39m \u001b[43mchardet\u001b[49m\u001b[38;5;241m.\u001b[39mdetect(response\u001b[38;5;241m.\u001b[39mcontent)[\u001b[38;5;124m'\u001b[39m\u001b[38;5;124mencoding\u001b[39m\u001b[38;5;124m'\u001b[39m]\n\u001b[1;32m      9\u001b[0m \u001b[38;5;66;03m# BeautifulSoupで解析、エンコーディングを指定\u001b[39;00m\n\u001b[1;32m     10\u001b[0m soup \u001b[38;5;241m=\u001b[39m BeautifulSoup(response\u001b[38;5;241m.\u001b[39mcontent, \u001b[38;5;124m\"\u001b[39m\u001b[38;5;124mhtml.parser\u001b[39m\u001b[38;5;124m\"\u001b[39m, from_encoding\u001b[38;5;241m=\u001b[39mdetected_encoding)\n",
      "\u001b[0;31mNameError\u001b[0m: name 'chardet' is not defined"
     ]
    }
   ],
   "source": [
    "# スクレイピング対象URL\n",
    "url = \"https://www.jalan.net/110000/LRG_110500/?stayYear=2025&stayMonth=1&stayDay=22&stayCount=1&roomCount=1&adultNum=2&ypFlg=1&kenCd=110000&screenId=UWW1380&roomCrack=200000&lrgCd=110500&distCd=01&rootCd=04\"\n",
    "\n",
    "# データ取得\n",
    "response = requests.get(url)\n",
    "# エンコーディングを自動検出\n",
    "detected_encoding = chardet.detect(response.content)['encoding']\n",
    "\n",
    "# BeautifulSoupで解析、エンコーディングを指定\n",
    "soup = BeautifulSoup(response.content, \"html.parser\", from_encoding=detected_encoding)\n",
    "\n",
    "# 旅館情報を含む要素を取得\n",
    "inns = soup.find_all(\"div\", class_=\"p-yadoCassette__summary\")\n",
    "\n",
    "for inn in inns:\n",
    "    try:\n",
    "        name = inn.find(\"h2\", class_=\"p-searchResultItem__facilityName\").text.strip()\n",
    "        rating = float(inn.find(\"span\", class_=\"p-searchResultItem__summaryaverage-num\").text)\n",
    "        comment_count_text = inn.find(\"span\", class_=\"p-searchResultItem__summarykuchikomi__totalNumber\").text\n",
    "        # 数値だけを抽出\n",
    "        comment_count_match = re.search(r'\\d+', comment_count_text)\n",
    "        if comment_count_match:\n",
    "            comment_count = int(comment_count_match.group(0))\n",
    "        else:\n",
    "            comment_count = 0 # 数値が見つからない場合は0を設定        \n",
    "        # データベースに挿入\n",
    "        cur.execute(\"INSERT INTO inns (name, rating, comment_count) VALUES (?, ?, ?)\", (name, rating, comment_count))\n",
    "\n",
    "    except AttributeError:\n",
    "        print(\"Error: Could not find element. Skipping...\")\n",
    "        # エラーが発生した旅館の情報をprintするなどして、原因を調査する\n",
    "        print(inn)"
   ]
  },
  {
   "cell_type": "code",
   "execution_count": 9,
   "metadata": {},
   "outputs": [],
   "source": [
    "# コミット\n",
    "conn.commit()\n",
    "\n",
    "# データベース接続を閉じる\n",
    "conn.close()"
   ]
  }
 ],
 "metadata": {
  "kernelspec": {
   "display_name": "Python 3",
   "language": "python",
   "name": "python3"
  },
  "language_info": {
   "codemirror_mode": {
    "name": "ipython",
    "version": 3
   },
   "file_extension": ".py",
   "mimetype": "text/x-python",
   "name": "python",
   "nbconvert_exporter": "python",
   "pygments_lexer": "ipython3",
   "version": "3.10.1"
  }
 },
 "nbformat": 4,
 "nbformat_minor": 2
}
